{
  "nbformat": 4,
  "nbformat_minor": 0,
  "metadata": {
    "kernelspec": {
      "display_name": "Python 3",
      "language": "python",
      "name": "python3"
    },
    "language_info": {
      "codemirror_mode": {
        "name": "ipython",
        "version": 3
      },
      "file_extension": ".py",
      "mimetype": "text/x-python",
      "name": "python",
      "nbconvert_exporter": "python",
      "pygments_lexer": "ipython3",
      "version": "3.5.4"
    },
    "colab": {
      "name": "Map Formation Model.ipynb",
      "provenance": [],
      "collapsed_sections": [],
      "toc_visible": true,
      "include_colab_link": true
    }
  },
  "cells": [
    {
      "cell_type": "markdown",
      "metadata": {
        "id": "view-in-github",
        "colab_type": "text"
      },
      "source": [
        "<a href=\"https://colab.research.google.com/github/msarvestani/Sinusoidal_Transform/blob/main/Map_Formation_Model.ipynb\" target=\"_parent\"><img src=\"https://colab.research.google.com/assets/colab-badge.svg\" alt=\"Open In Colab\"/></a>"
      ]
    },
    {
      "cell_type": "markdown",
      "metadata": {
        "collapsed": true,
        "id": "3mrVO25_uVmz"
      },
      "source": [
        "# Introduction and Instructions\n",
        "\n",
        "This interactive notebook contains the model in Figure 3 of Sedigh-Sarvestani et al.\n",
        "\n",
        "V2 is modeled, using an elastic-net, as consisting of 600 point ‘neurons’, each at a particular location on a cortical sheet and a receptive field (RF) defined by its azimuth and elevation in the visual field (VF). Retinotopic maps are produced by color-coding the sheet by the RF azimuth or elevation value of each neuron (Figure 3A, ‘Cortical Maps’). \n",
        "\n",
        "The premise is to create a topographic map by minimizing a cost function that trades off uniform visual field coverage with biologically inspired penalties applied to the cortical map. These penalties 'constrain' the mapping of the RFs according to their layout on the cortex and include: c1) smoothness c2) vertical meridian at area boundary and c3) relatively round RFs.\n",
        "\n",
        "Elastic nets implementation with tensorflow modified from Hsin-Hao Yu @ https://github.com/hsinhaoyu/DM_Retinotopy, who generously shared his code.\n",
        "\n",
        "To run this notebook: Runtime -> Run all. Alternatively you can run each cell by clicking the play button on the top left. Cells must be run in order.\n",
        "\n",
        "If you edit the code, the easiest way to ensure the edits get processed correctly is by restarting the notebook: Runtime -> Restart and run all.\n",
        "\n",
        "Madineh Sedigh-Sarvestani @MPFI, 2020."
      ]
    },
    {
      "cell_type": "markdown",
      "metadata": {
        "id": "KhrJnxq8NF5f"
      },
      "source": [
        "# Setup"
      ]
    },
    {
      "cell_type": "code",
      "metadata": {
        "id": "4VAhy9eQuVm1",
        "colab": {
          "base_uri": "https://localhost:8080/"
        },
        "cellView": "form",
        "outputId": "c30e031d-eb2d-4802-9474-3fba122e0e21"
      },
      "source": [
        "#@title Imports\n",
        "import tensorflow.compat.v1 as tf #use compatibility mode since colab runs tf v>1\n",
        "tf.disable_v2_behavior()\n",
        "import numpy as np\n",
        "import matplotlib.pyplot as plt\n",
        "from matplotlib import patches\n",
        "from scipy.special import erfinv,erf"
      ],
      "execution_count": 1,
      "outputs": [
        {
          "output_type": "stream",
          "text": [
            "WARNING:tensorflow:From /usr/local/lib/python3.6/dist-packages/tensorflow/python/compat/v2_compat.py:96: disable_resource_variables (from tensorflow.python.ops.variable_scope) is deprecated and will be removed in a future version.\n",
            "Instructions for updating:\n",
            "non-resource variables are not supported in the long term\n"
          ],
          "name": "stdout"
        }
      ]
    },
    {
      "cell_type": "code",
      "metadata": {
        "id": "yKD72VEGuVm8"
      },
      "source": [
        "#@title Parameters\n",
        "# define parameters for area map, visual field, cost-function, and learning rate\n",
        "\n",
        "# map_h is the side that has a boundary\n",
        "# this geometry is defined by neighborhood()\n",
        "# for example, (h, w) = (5, 3)\n",
        "# index:\n",
        "#    x 0 5 10\n",
        "#    x 1 6 11\n",
        "#    x 2 7 12\n",
        "#    x 3 8 13\n",
        "#    x 4 9 14\n",
        "# x is boundary\n",
        "\n",
        "#target/input RFs\n",
        "fov_shape= 'circle' #'circle','square'\n",
        "ecc0 = 0.1 #min eccentricity\n",
        "ecc1 = 15 #define max eccentricity in degrees for all shapes\n",
        "\n",
        "\n",
        "if fov_shape in 'circle':\n",
        "  vm_len=ecc1\n",
        "elif fov_shape in 'square':\n",
        "  square_height=ecc1\n",
        "  vm_len = square_height/2 \n",
        "\n",
        "\n",
        "### cortex\n",
        "total_size = 600\n",
        "ar = 8 #aspect ratio of cortical area\n",
        "unit = np.power(total_size,1/(ar+1))\n",
        "map_w = int(np.round(np.sqrt(total_size/ar)))\n",
        "map_h= int(np.round(ar*map_w))\n",
        "\n",
        "#number of input RFs in target visual field\n",
        "n_prototypes    = int(np.round(1*map_h*map_w))#number of points in target visual field\n",
        "\n",
        "### cost-function parameters\n",
        "# b0 - weight for main cost function (defined as 1)\n",
        "# b1 - the weight for points inside the map (smoothness)\n",
        "# b2 - the weight for map boundary (continuity across areas). \n",
        "# b3 - the weight for maintaining non-stretched RFs\n",
        "b0 = 1\n",
        "b1 = 0.03\n",
        "b2 = 0.03\n",
        "b3 = 0.03\n",
        "\n",
        "#learning rules\n",
        "eta0 = 0.09   # how current gradient influencs next move, default 0.09\n",
        "m = 0.9         # how past step influences next move, default 0.9\n",
        "\n",
        "# add small mount of noise to the prototypes, which might give the solution some variations\n",
        "prototype_noise = True\n",
        "\n",
        "#initial condition\n",
        "init = 'random' #choose 'vm' or 'random'\n",
        "\n",
        "#number of iterations\n",
        "num_iter = 1600\n",
        "\n",
        "#annealing factor\n",
        "k = 100\n"
      ],
      "execution_count": 2,
      "outputs": []
    },
    {
      "cell_type": "code",
      "metadata": {
        "id": "XkfCKho5uVnD",
        "cellView": "form"
      },
      "source": [
        "#@title Helper Functions\n",
        "\n",
        "#generate VM boundary at the left border of V2 cortical slab\n",
        "def generate_v2_boundary(vm_len, div):\n",
        "    zz = []\n",
        "    for x in np.linspace(-vm_len, vm_len, div):\n",
        "        coords =  [0.0,x]\n",
        "        zz.append(coords)\n",
        "    return np.array(zz)\n",
        "\n",
        "###generate landmarks on the visual field\n",
        "def spiral(c, r0, r1, n, shuffleP=True):\n",
        "    \"\"\"\n",
        "        Make a spiral with n points.\n",
        "        the distance from these points to (0, 0) ranges from r0 to r1\n",
        "        the density of the dots falls off accoridng to r^c, where r is the distance to (0, 0)\n",
        "        c should be a negative number\n",
        "        returns a numpy array\n",
        "    \"\"\"\n",
        "    def f(r):\n",
        "        return np.sqrt(np.power(r, 1.0-c)/(1.0-c))\n",
        "\n",
        "    n0 = np.power(r0 * r0 * (1.0-c), 1.0/(1.0-c))\n",
        "    n1 = np.power(r1 * r1 * (1.0-c), 1.0/(1.0-c))\n",
        "\n",
        "    lst = []\n",
        "    for k in range(1, n+1):\n",
        "        d = f( (n1-n0)/(n-1)*k + n0-(n1-n0)/(n-1) )\n",
        "        theta = 3.1415926 * (3.0 - np.sqrt(5.0)) * (k-1.0)\n",
        "        x = d * np.cos(theta)\n",
        "        y = d * np.sin(theta)\n",
        "        lst.append((x,y))\n",
        "    res = np.asarray(lst, dtype=np.float64)\n",
        "    if shuffleP:\n",
        "        np.random.shuffle(res)\n",
        "    return res\n",
        "\n",
        "def generate_landmarks_spiral(c, r0, r1, n, noise=False):\n",
        "   # x0 = generate_landmarks(magnification, ecc0, ecc1, n_prototypes, noise=prototype_noise)\n",
        "\n",
        "    # generate landmarks on a hemifield\n",
        "    # returns a numpy array\n",
        "\n",
        "    # generate twice as many points because spiral() covers the entire visual field\n",
        "    pts = spiral(c, r0, r1, 2*n)\n",
        "\n",
        "    # boolean array, find those that are in the right hemifield\n",
        "    pts_idx = (pts[:, 0] >= -0.0)\n",
        "    #pts_idx = np.logical_and(pts[:, 0] >= 0, pts[:,1]>=0) %upper right hemifield\n",
        "\n",
        "    # make a mask array\n",
        "    pts_idx = np.stack([pts_idx, pts_idx])\n",
        "    pts_idx = np.transpose(pts_idx)\n",
        "\n",
        "    # keep points whose x coordinate is larger or equal to 0\n",
        "    zz = np.extract(pts_idx, pts)\n",
        "    # but since the extracted is flattend, I have to reshape it\n",
        "    zz = zz.reshape([int(zz.shape[0]/2), 2])\n",
        "\n",
        "    if noise:\n",
        "        zz = zz + np.random.normal(0.0, 0.1, zz.shape)\n",
        "\n",
        "    return zz\n",
        "\n",
        "\n",
        "def generate_landmarks_random(c, r0, r1, n, noise=False):\n",
        "\n",
        "    # generate landmarks on a hemifield\n",
        "    # returns a numpy array\n",
        "    \n",
        "    vsize = n\n",
        "    R = r1\n",
        "    phi = np.random.random(size=vsize) * np.pi\n",
        "    r = np.random.random(size=vsize) * R \n",
        "    #r = np.sqrt(np.random.random(size=vsize) * R) #taking the sqrt corrects small radius non-uniformities\n",
        "    # transform\n",
        "    yyy = r * np.cos(phi)\n",
        "    xxx = r * np.sin(phi)\n",
        "    x02=(np.asarray([xxx,yyy])).T\n",
        "    \n",
        "    return x02\n",
        "\n",
        "def generate_landmarks_square(square_height, n):    \n",
        "    x = (np.linspace(0,square_height,int(np.sqrt(n))))\n",
        "    y=  (np.linspace(-square_height/2,square_height/2,int(np.sqrt(n))))\n",
        "    xx,yy = np.meshgrid(x,y,sparse=True)\n",
        "    xx = xx.reshape((np.prod(xx.shape),))\n",
        "    yy = yy.reshape((np.prod(yy.shape),))\n",
        "    points = []\n",
        "    for x in xx:\n",
        "       for y in yy:\n",
        "           random_point = [x, y]\n",
        "           points.append(random_point)\n",
        "    points_array = np.asarray(points)\n",
        "    return points_array\n",
        "\n",
        "def generate_landmarks_spiral_square(g_ell_height,g_ell_width,c,r0,r1,n):\n",
        "\n",
        "    zz=generate_landmarks_spiral(c, r0, r1, n, noise=False)\n",
        "\n",
        "    #define perimeter of elllipse\n",
        "    g_ell_center = (0, -g_ell_height/2.0)\n",
        "    g_square = patches.Rectangle(g_ell_center, g_ell_height,  g_ell_height)\n",
        "\n",
        "    points_array=[]\n",
        "    for point in zz:\n",
        "      if g_square.contains_point(point, radius=0):\n",
        "          points_array.append(point)\n",
        "      \n",
        "    points_array=np.asarray(points_array)\n",
        "    return points_array\n",
        "\n",
        "def neighborhood(h, w):\n",
        "    \"\"\"\n",
        "        numbers {0...h*w-1} arranged in a hxw grid, produce a list of neighboring numbers.\n",
        "        The ith element of the list is a list of numbers that neighbor i\n",
        "    \"\"\"\n",
        "    # this line defines how the geometry is coded\n",
        "    # for (h, w) = (4, 2)\n",
        "    # 0 4\n",
        "    # 1 5\n",
        "    # 2 6\n",
        "    # 3 7\n",
        "    x = np.transpose(np.array(range(h*w)).reshape([w, h]))\n",
        "    lst = []\n",
        "    for i in range(w):\n",
        "        for j in range(h):\n",
        "            neighbors = []\n",
        "            for ii in [-1,0, 1]:\n",
        "                for jj in [-1,0, 1]:\n",
        "                    if (i+ii>=0) and (i+ii<w) and (j+jj>=0) and (j+jj<h):\n",
        "                        neighbors.append(x[j+jj,i+ii])\n",
        "            lst.append(neighbors)\n",
        "    return lst\n",
        "\n",
        "def neighborhood_x(h, w):\n",
        "    \"\"\"\n",
        "        numbers {0...h*w-1} arranged in a hxw grid, produce a list of neighboring numbers.\n",
        "        The ith element of the list is a list of numbers that neighbor i\n",
        "    \"\"\"\n",
        "    # this line defines how the geometry is coded\n",
        "    # for (h, w) = (4, 2)\n",
        "    # 0 4\n",
        "    # 1 5\n",
        "    # 2 6\n",
        "    # 3 7\n",
        "    x = np.transpose(np.array(range(h*w)).reshape([w, h]))\n",
        "    lst = []\n",
        "    for i in range(w):\n",
        "        for j in range(h):\n",
        "            neighbors = []\n",
        "            for ii in [0]:\n",
        "                for jj in [-3,-2,-1,0, 1,2,3]:\n",
        "                    if (i+ii>=0) and (i+ii<w) and (j+jj>=0) and (j+jj<h):\n",
        "                        neighbors.append(x[j+jj,i+ii])\n",
        "            lst.append(neighbors)\n",
        "    return lst\n",
        "\n",
        "def neighborhood_y(h, w):\n",
        "    \"\"\"\n",
        "        numbers {0...h*w-1} arranged in a hxw grid, produce a list of neighboring numbers.\n",
        "        The ith element of the list is a list of numbers that neighbor i\n",
        "    \"\"\"\n",
        "    # this line defines how the geometry is coded\n",
        "    # for (h, w) = (4, 2)\n",
        "    # 0 4\n",
        "    # 1 5\n",
        "    # 2 6\n",
        "    # 3 7\n",
        "    x = np.transpose(np.array(range(h*w)).reshape([w, h]))\n",
        "    lst = []\n",
        "    for i in range(w):\n",
        "        for j in range(h):\n",
        "            neighbors = []\n",
        "            for ii in [-3,-2,-1,0, 1,2,3]:\n",
        "                for jj in [ 0]:\n",
        "                    if (i+ii>=0) and (i+ii<w) and (j+jj>=0) and (j+jj<h):\n",
        "                        neighbors.append(x[j+jj,i+ii])\n",
        "            lst.append(neighbors)\n",
        "    return lst\n",
        "\n",
        "\n",
        "def make_mask(h, w, neighbors):\n",
        "    x = np.zeros([h*w, h*w], dtype=np.float64)\n",
        "    for i in range(h*w):\n",
        "        for j in neighbors[i]:\n",
        "            x[i, j] = 1.0\n",
        "    return x\n",
        "\n",
        "def make_boundary_mask(n):\n",
        "    \"\"\"\n",
        "        n: numer of elements on the boundary\n",
        "        return a n*n array\n",
        "    \"\"\"\n",
        "    x = np.zeros([n, n], dtype=np.float64)\n",
        "    for i in range(n):\n",
        "        for j in [-1, 0, 1]:\n",
        "            if (i+j)>=0 and (i+j)<n:\n",
        "                x[i, i+j] = 1.0\n",
        "    return x\n",
        "\n",
        "def initial_condition_random(h, w, x):\n",
        "    \"\"\"\n",
        "        initialze a cortical map of the size [map_w * map_h]\n",
        "        each point on the map is randomly assigned to prototypes on the visual field (x) with some added noise\n",
        "    \"\"\"\n",
        "    map_size = h * w\n",
        "\n",
        "    np.random.seed(seed=1234)\n",
        "    idx = np.random.randint(x.shape[0], size = map_size)\n",
        "    y = x[idx, :] # randomly sample from x with replacement\n",
        "    n = np.random.normal(0.0, 1.0, y.shape) \n",
        "    return y + n\n",
        "\n",
        "\n",
        "def initial_condition_vm(h, w, x):\n",
        "    \"\"\"\n",
        "        initialze a cortical map of the size [map_w * map_h]\n",
        "        each point on the map is randomly assigned to prototypes on the visual field (x) with some added noise\n",
        "    \"\"\"\n",
        "    map_size = h * w\n",
        "\n",
        "    np.random.seed(seed=1234)\n",
        "    idx = np.sort(np.random.randint(x.shape[0], size = map_size))\n",
        "    y = x[idx,:]\n",
        "    y[:,1] = np.sort(x[idx,1]).reshape(-1,h,order='F').ravel() #sort elevation\n",
        "    y[:,0] = 0 #set azimuth to 0\n",
        "    n = np.random.normal(0.0, 1.0, y.shape) \n",
        "    return y + n"
      ],
      "execution_count": 3,
      "outputs": []
    },
    {
      "cell_type": "code",
      "metadata": {
        "id": "uRAlLFudKPJY",
        "cellView": "form"
      },
      "source": [
        "#@title Plotting Functions\n",
        "def plot_output(zz,map_w,map_h,ecc1,x0,fov_shape):\n",
        "    zz_cortex2=(np.reshape(zz,(map_w,map_h,2)))\n",
        "\n",
        "    fig,axs = plt.subplots(1,4)\n",
        "    pos0=axs[0].imshow(zz_cortex2[:,:,0].T,origin='lower',cmap='RdYlBu',vmin=0, \n",
        "                       vmax=ecc1)\n",
        "    axs[0].set_xticks([]); axs[0].set_yticks([])\n",
        "    axs[0].set_title('azimuth')\n",
        "    axs[0].invert_xaxis()\n",
        "    fig.colorbar(pos0, ax=axs[0])\n",
        "\n",
        "    if fov_shape=='circle':\n",
        "      pos1 = axs[1].imshow(zz_cortex2[:, :, 1].T, origin='lower', cmap='RdYlBu',\n",
        "                         vmin=-ecc1, vmax=ecc1)\n",
        "    else:\n",
        "      pos1 = axs[1].imshow(zz_cortex2[:, :, 1].T, origin='lower', cmap='RdYlBu', \n",
        "                         vmin=-ecc1/2, vmax=ecc1/2)\n",
        "\n",
        "    axs[1].set_xticks([]); axs[1].set_yticks([])\n",
        "    axs[1].set_title('elevation')\n",
        "    axs[1].invert_xaxis()\n",
        "    fig.colorbar(pos1, ax=axs[1])\n",
        "\n",
        "    #plot weights/RFs on visual field coordinate system\n",
        "    axs[2].scatter(zz[:,0],zz[:,1],s=1)\n",
        "    axs[2].set_title('Cortical Map')\n",
        "    axs[2].set_xlim(-0.1,ecc1)\n",
        "    axs[2].set_ylim(-ecc1,ecc1)\n",
        "    asp = np.diff(axs[2].get_xlim())[0] / np.diff(axs[2].get_ylim())[0]\n",
        "    axs[2].set_xticks([]); axs[2].set_yticks([])\n",
        "    axs[2].set_aspect(1.9*asp)\n",
        "    axs[2].invert_xaxis()\n",
        "\n",
        "    #plot target visual field with boundary condition (if relevant)\n",
        "    axs[3].scatter(x0[:,0],x0[:,1],s=1)\n",
        "    axs[3].set_title('Input RFs')\n",
        "    if b2>0:\n",
        "        axs[3].scatter(bound0[:,0],bound0[:,1],s=6,color='red')\n",
        "        \n",
        "    axs[3].set_xlim(-0.1,ecc1)\n",
        "    axs[3].set_ylim(-ecc1,ecc1)\n",
        "    asp = np.diff(axs[3].get_xlim())[0] / np.diff(axs[3].get_ylim())[0]\n",
        "    axs[3].set_xticks([]); axs[3].set_yticks([])\n",
        "    axs[3].set_aspect(1.9*asp)\n",
        "    axs[3].invert_xaxis()\n",
        "\n",
        "    #adjust spaceing\n",
        "    plt.subplots_adjust(wspace=1, hspace=None)\n",
        "    #plt.show()\n",
        "\n",
        "    return fig,plt\n",
        "\n",
        "\n",
        "def plot_output_movie(zz,map_w,map_h,ecc1,x0, camera,fov_shape):\n",
        "    zz_cortex2=(np.reshape(zz,(map_w,map_h,2)))\n",
        "\n",
        "    #plot target visual field with boundary condition (if relevant)\n",
        "    axs[0].scatter(x0[:,0],x0[:,1],s=1,c='k')\n",
        "    axs[0].set_title('Input RFs')\n",
        "    if b2>0:\n",
        "        axs[0].scatter(bound0[:,0],bound0[:,1],s=6,color='red')\n",
        "        \n",
        "    axs[0].set_xlim(-0.1,ecc1)\n",
        "    axs[0].set_ylim(-ecc1,ecc1)\n",
        "    asp = np.diff(axs[0].get_xlim())[0] / np.diff(axs[0].get_ylim())[0]\n",
        "    axs[0].set_xticks([]); axs[0].set_yticks([])\n",
        "    axs[0].set_aspect(1.9*asp)\n",
        "    axs[0].invert_xaxis()\n",
        "\n",
        "\n",
        "    \n",
        "    pos0=axs[1].imshow(zz_cortex2[:,:,0].T,origin='lower',cmap='RdYlBu',\n",
        "                       vmin=0, vmax=ecc1)\n",
        "    axs[1].set_xticks([]); axs[1].set_yticks([])\n",
        "    axs[1].set_title('azimuth')\n",
        "    axs[1].invert_xaxis()\n",
        "    #fig.colorbar(pos0, ax=axs[0])\n",
        "\n",
        "    \n",
        "    if fov_shape=='circle':\n",
        "      pos1 = axs[2].imshow(zz_cortex2[:, :, 1].T, origin='lower', cmap='RdYlBu',\n",
        "                         vmin=-ecc1, vmax=ecc1)\n",
        "    else:\n",
        "      pos1 = axs[2].imshow(zz_cortex2[:, :, 1].T, origin='lower', cmap='RdYlBu', \n",
        "                         vmin=-ecc1/2, vmax=ecc1/2)\n",
        "      \n",
        "    axs[2].set_xticks([]); axs[2].set_yticks([])\n",
        "    axs[2].set_title('elevation')\n",
        "    axs[2].invert_xaxis()\n",
        "    #fig.colorbar(pos1, ax=axs[1])\n",
        "    \n",
        "\n",
        "    #plot weights/RFs on visual field coordinate system\n",
        "    axs[3].scatter(zz[:,0],zz[:,1],s=1,c='k')\n",
        "    #axs[3].set_title('visual field')\n",
        "    axs[3].set_xlim(-0.1,ecc1)\n",
        "    axs[3].set_ylim(-ecc1,ecc1)\n",
        "    asp = np.diff(axs[3].get_xlim())[0] / np.diff(axs[3].get_ylim())[0]\n",
        "    axs[3].set_xticks([]); axs[3].set_yticks([])\n",
        "    axs[3].set_aspect(1.9*asp)\n",
        "    axs[3].invert_xaxis()\n",
        "    axs[3].set_xlabel('azimuth')\n",
        "    axs[3].set_ylabel('elevation')\n",
        "    leg = axs[3].legend([f'iter:{i}'],bbox_to_anchor=(0.3, 1.1), loc='center',\n",
        "    ncol=2, borderaxespad=0.9,mode=\"expand\",frameon=False,\n",
        "    handletextpad=-2, handlelength=0)\n",
        "    for item in leg.legendHandles:\n",
        "        item.set_visible(False)\n",
        "\n",
        "\n",
        "\n",
        "    #adjust spaceing\n",
        "    #plt.subplots_adjust(wspace=1, hspace=None)\n",
        "    camera.snap()\n",
        "    plt.show()\n",
        "\n",
        "    return camera"
      ],
      "execution_count": 4,
      "outputs": []
    },
    {
      "cell_type": "markdown",
      "metadata": {
        "id": "io0ftDc3p5HX"
      },
      "source": [
        "# Generate Input (Target) RFs\n"
      ]
    },
    {
      "cell_type": "code",
      "metadata": {
        "id": "MLxDlRf0uVnG",
        "colab": {
          "base_uri": "https://localhost:8080/",
          "height": 294
        },
        "outputId": "9cd41137-d3ed-45d4-899e-e49e85ccc385"
      },
      "source": [
        "# generate prototypes on the visual field\n",
        "if fov_shape in 'circle':\n",
        "  x0 = generate_landmarks_spiral(0, ecc0, ecc1, n_prototypes, noise = prototype_noise)\n",
        "elif fov_shape in 'square':\n",
        "  x0 = generate_landmarks_square(square_height, n_prototypes)\n",
        "\n",
        "x  = tf.constant(\n",
        "        x0,\n",
        "        dtype=tf.float64,\n",
        "        name='x')\n",
        "\n",
        "# generate prototypes on the boundary\n",
        "bound0 = generate_v2_boundary(vm_len, map_h)\n",
        "b = tf.constant(\n",
        "    bound0,\n",
        "    dtype=tf.float64,\n",
        "    name='b')\n",
        "\n",
        "\n",
        "#%matplotlib qt\n",
        "## plot x0 (the visual field)\n",
        "fig,axs = plt.subplots(1,1)\n",
        "axs.scatter(x0[:,0],x0[:,1],s=1)\n",
        "axs.axis('equal'); plt.xlabel('degrees'); plt.ylabel('degrees')\n",
        "axs.set_title('Input RFs (Optimization Target)')\n",
        "axs.invert_xaxis()\n",
        "plt.scatter(bound0[:,0],bound0[:,1],s=6,color='red')\n",
        "plt.show()\n"
      ],
      "execution_count": 5,
      "outputs": [
        {
          "output_type": "display_data",
          "data": {
            "image/png": "[encoded data removed]",
            "text/plain": [
              "<Figure size 432x288 with 1 Axes>"
            ]
          },
          "metadata": {
            "tags": [],
            "needs_background": "light"
          }
        }
      ]
    },
    {
      "cell_type": "markdown",
      "metadata": {
        "id": "qCk9kKAcuVnK"
      },
      "source": [
        "# Generate Initial Conditions \n",
        "Note that initially, there is no orderly azimuth or elevation map because the individual neuron pixels on the cortex are randomly assigned to one of the input RFs."
      ]
    },
    {
      "cell_type": "code",
      "metadata": {
        "id": "kBkG2lQLuVnL",
        "colab": {
          "base_uri": "https://localhost:8080/",
          "height": 268
        },
        "outputId": "ec4b1516-4299-4aba-a50b-b4cd4538f97e"
      },
      "source": [
        "#choose vertical meridian or random initial mapping\n",
        "if init=='random':\n",
        "    y0 = initial_condition_random(map_h, map_w, x0)\n",
        "else:\n",
        "    y0 = initial_condition_vm(map_h, map_w, x0)\n",
        "\n",
        "\n",
        "## plot y0 (the initial cortical map)\n",
        "plot_output(y0,map_w,map_h,ecc1,x0,fov_shape);"
      ],
      "execution_count": 6,
      "outputs": [
        {
          "output_type": "display_data",
          "data": {
            "image/png": "[encoded data removed]",
            "text/plain": [
              "<Figure size 432x288 with 6 Axes>"
            ]
          },
          "metadata": {
            "tags": [],
            "needs_background": "light"
          }
        }
      ]
    },
    {
      "cell_type": "markdown",
      "metadata": {
        "id": "6efZUnTiuVnP"
      },
      "source": [
        "\n",
        "# Define Cost-Function\n"
      ]
    },
    {
      "cell_type": "code",
      "metadata": {
        "id": "demdccTOuVnQ"
      },
      "source": [
        "# the weights of the regularization terms balanced against main cost\n",
        "beta0 = tf.placeholder(tf.float64, shape=(), name=\"b0\") #main cost\n",
        "beta1 = tf.placeholder(tf.float64, shape=(), name=\"b1\") #smoothness within area\n",
        "beta2 = tf.placeholder(tf.float64, shape=(), name=\"b2\") #boundary smoothness\n",
        "beta3 = tf.placeholder(tf.float64, shape=(), name=\"b3\") #even x,y gradients\n",
        "\n",
        "# annealing parameter (essentially size of gaussian that 'pulls' cortical map to visual field, and reduces with iteration)\n",
        "kappa = tf.placeholder(tf.float64, shape=(), name=\"k\")\n",
        "\n",
        "y = tf.get_variable(\n",
        "        \"y\",\n",
        "        dtype = tf.float64,\n",
        "        initializer = y0)\n",
        "\n",
        "# this is the boundary of the cortical map\n",
        "yb = y[:map_h]\n",
        "\n",
        "#### main cost (visual field)\n",
        "yx_diff = tf.expand_dims(y, 1) - tf.expand_dims(x, 0) #matrix subtraction between cortex and target\n",
        "yx_normsq = tf.einsum('ijk,ijk->ij', yx_diff, yx_diff)\n",
        "yx_gauss = tf.exp(-1.0 * yx_normsq / (2.0 * kappa * kappa))\n",
        "yx_cost =- 1.0 * kappa * tf.reduce_sum(\n",
        "            tf.log(\n",
        "                tf.reduce_sum(yx_gauss, axis=0)))\n",
        "\n",
        "#### regularization term 1 - continuity within area\n",
        "# n is a list of map_h * map_w objects.\n",
        "#The i-th item s neighboring the i-th nodeof n is a list containing the indices of node\n",
        "n = neighborhood(map_h, map_w)\n",
        "mask = tf.constant(make_mask(map_h, map_w, n), dtype=tf.float64, name='mask')\n",
        "\n",
        "# pairwise distance within the map: first use expand_dims to calculate pairwise difference\n",
        "yy_diff = tf.expand_dims(y, 1) - tf.expand_dims(y, 0)\n",
        "yy_normsq = tf.einsum('ijk,ijk->ij', yy_diff, yy_diff)\n",
        "yy_normsq_masked = tf.multiply(mask, yy_normsq)#then only look at the diff among neighbors\n",
        "\n",
        "reg1 = tf.reduce_sum(yy_normsq_masked)\n",
        "\n",
        "#### regularization term 2 - impose boundary (continuity across boundary)\n",
        "# pairwise distance between map and boundary\n",
        "yb_diff = tf.expand_dims(yb, 1) - tf.expand_dims(b, 0)\n",
        "yb_normsq = tf.einsum('ijk,ijk->ij', yb_diff, yb_diff)\n",
        "bmask = make_boundary_mask(map_h)\n",
        "yb_normsq_masked = tf.multiply(bmask, yb_normsq)\n",
        "\n",
        "reg2 = tf.reduce_sum(yb_normsq_masked)\n",
        "\n",
        "#### regularization term 3 - equal resolution along two axis of rectangular cortex\n",
        "n_x = neighborhood_x(map_h, map_w)\n",
        "n_y = neighborhood_y(map_h, map_w)\n",
        "mask_x = tf.constant(make_mask(map_h, map_w, n_x), dtype=tf.float64, name='mask')\n",
        "mask_y = tf.constant(make_mask(map_h, map_w, n_y), dtype=tf.float64, name='mask')\n",
        "yy_normsq_masked_az = tf.multiply(mask_x, yy_normsq)\n",
        "yy_normsq_masked_el = tf.multiply(mask_y, yy_normsq)\n",
        "\n",
        "reg3=tf.abs(tf.reduce_sum(yy_normsq_masked_az)-tf.reduce_sum(yy_normsq_masked_el))"
      ],
      "execution_count": 7,
      "outputs": []
    },
    {
      "cell_type": "markdown",
      "metadata": {
        "id": "9aja3tD5qSrS"
      },
      "source": [
        "# Define Optimizer\n",
        "Dfine a gradient descent algorithm to solve the minimization problem."
      ]
    },
    {
      "cell_type": "code",
      "metadata": {
        "id": "hNo5UtySuVnZ",
        "colab": {
          "base_uri": "https://localhost:8080/"
        },
        "outputId": "e0b71229-dc23-466b-e065-04d3b1bcb1c5"
      },
      "source": [
        "global_step = tf.Variable(0, trainable=False)\n",
        "current_eta = tf.train.exponential_decay(eta0, global_step, 10, 0.99, staircase=False)\n",
        "\n",
        "cost = beta0*yx_cost + beta1 * reg1 + beta2 * reg2 + beta3 *reg3\n",
        "opt = tf.train.RMSPropOptimizer(current_eta, momentum = m).minimize(cost, global_step = global_step)"
      ],
      "execution_count": 8,
      "outputs": [
        {
          "output_type": "stream",
          "text": [
            "WARNING:tensorflow:From /usr/local/lib/python3.6/dist-packages/tensorflow/python/training/rmsprop.py:123: calling Ones.__init__ (from tensorflow.python.ops.init_ops) with dtype is deprecated and will be removed in a future version.\n",
            "Instructions for updating:\n",
            "Call initializer instance with the dtype argument instead of passing it to the constructor\n"
          ],
          "name": "stdout"
        }
      ]
    },
    {
      "cell_type": "markdown",
      "metadata": {
        "id": "J-2vWkdXuVne"
      },
      "source": [
        "# Run the Simulation\n",
        "This will take a while..."
      ]
    },
    {
      "cell_type": "code",
      "metadata": {
        "id": "xuj_re3WuVne",
        "colab": {
          "base_uri": "https://localhost:8080/"
        },
        "outputId": "65a72ac5-a965-4e76-b7fe-93c6f69077d0"
      },
      "source": [
        "sess = tf.Session()\n",
        "sess.run(tf.global_variables_initializer())\n",
        "\n",
        "k=100\n",
        "for i in range(num_iter):\n",
        "\n",
        "    sess.run(opt, {kappa: k, beta0:b0, beta1: b1, beta2: b2, beta3: b3})\n",
        "    [zz,e1,e2,e3,e4] = sess.run([y,yx_cost, reg1, reg2, reg3], {kappa: k})\n",
        "\n",
        "    #print the stat of the model for every 100th iteration\n",
        "    if i%100==0:\n",
        "        print (\"iteration \", i, \" of \", num_iter)\n",
        "\n",
        "    #update annealing factor    \n",
        "    if k>0.01:\n",
        "        k = k - k*0.005\n",
        "\n"
      ],
      "execution_count": 9,
      "outputs": [
        {
          "output_type": "stream",
          "text": [
            "iteration  0  of  1600\n",
            "iteration  100  of  1600\n",
            "iteration  200  of  1600\n",
            "iteration  300  of  1600\n",
            "iteration  400  of  1600\n",
            "iteration  500  of  1600\n",
            "iteration  600  of  1600\n",
            "iteration  700  of  1600\n",
            "iteration  800  of  1600\n",
            "iteration  900  of  1600\n",
            "iteration  1000  of  1600\n",
            "iteration  1100  of  1600\n",
            "iteration  1200  of  1600\n",
            "iteration  1300  of  1600\n",
            "iteration  1400  of  1600\n",
            "iteration  1500  of  1600\n"
          ],
          "name": "stdout"
        }
      ]
    },
    {
      "cell_type": "markdown",
      "metadata": {
        "id": "amNGTTaVuVnh"
      },
      "source": [
        "# Plot Final Maps"
      ]
    },
    {
      "cell_type": "code",
      "metadata": {
        "scrolled": true,
        "id": "hlbRBxpRuVnm",
        "colab": {
          "base_uri": "https://localhost:8080/",
          "height": 268
        },
        "outputId": "e04c5531-8936-436f-941b-7ad52698238b"
      },
      "source": [
        "#plot the final state of the model\n",
        "plot_output(zz,map_w,map_h,ecc1,x0,fov_shape);         "
      ],
      "execution_count": 10,
      "outputs": [
        {
          "output_type": "display_data",
          "data": {
            "image/png": "[encoded data removed]",
            "text/plain": [
              "<Figure size 432x288 with 6 Axes>"
            ]
          },
          "metadata": {
            "tags": [],
            "needs_background": "light"
          }
        }
      ]
    }
  ]
}